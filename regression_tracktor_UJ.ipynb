{
 "cells": [
  {
   "cell_type": "markdown",
   "metadata": {},
   "source": [
    "Low maintanence arsenal for our quest."
   ]
  },
  {
   "cell_type": "code",
   "execution_count": 114,
   "metadata": {},
   "outputs": [],
   "source": [
    "%matplotlib inline\n",
    "import pandas as pd\n",
    "import numpy as np\n",
    "\n",
    "#no warnings because I like my stuff clean.\n",
    "import warnings\n",
    "warnings.filterwarnings('ignore')\n",
    "\n",
    "#pipemaster\n",
    "from sklearn.pipeline import Pipeline"
   ]
  },
  {
   "cell_type": "markdown",
   "metadata": {},
   "source": [
    "Load the training and test data."
   ]
  },
  {
   "cell_type": "code",
   "execution_count": 115,
   "metadata": {},
   "outputs": [],
   "source": [
    "train = pd.read_csv('data/Train.csv')\n",
    "test =  pd.read_csv('data/test.csv')"
   ]
  },
  {
   "cell_type": "markdown",
   "metadata": {},
   "source": [
    "***EDA***"
   ]
  },
  {
   "cell_type": "markdown",
   "metadata": {},
   "source": [
    "Size"
   ]
  },
  {
   "cell_type": "code",
   "execution_count": 116,
   "metadata": {},
   "outputs": [
    {
     "data": {
      "text/plain": [
       "(401125, 53)"
      ]
     },
     "execution_count": 116,
     "metadata": {},
     "output_type": "execute_result"
    }
   ],
   "source": [
    "train.shape"
   ]
  },
  {
   "cell_type": "markdown",
   "metadata": {},
   "source": [
    "What do you have there?"
   ]
  },
  {
   "cell_type": "code",
   "execution_count": 117,
   "metadata": {},
   "outputs": [
    {
     "name": "stdout",
     "output_type": "stream",
     "text": [
      "<class 'pandas.core.frame.DataFrame'>\n",
      "RangeIndex: 401125 entries, 0 to 401124\n",
      "Data columns (total 53 columns):\n",
      "SalesID                     401125 non-null int64\n",
      "SalePrice                   401125 non-null int64\n",
      "MachineID                   401125 non-null int64\n",
      "ModelID                     401125 non-null int64\n",
      "datasource                  401125 non-null int64\n",
      "auctioneerID                380989 non-null float64\n",
      "YearMade                    401125 non-null int64\n",
      "MachineHoursCurrentMeter    142765 non-null float64\n",
      "UsageBand                   69639 non-null object\n",
      "saledate                    401125 non-null object\n",
      "fiModelDesc                 401125 non-null object\n",
      "fiBaseModel                 401125 non-null object\n",
      "fiSecondaryDesc             263934 non-null object\n",
      "fiModelSeries               56908 non-null object\n",
      "fiModelDescriptor           71919 non-null object\n",
      "ProductSize                 190350 non-null object\n",
      "fiProductClassDesc          401125 non-null object\n",
      "state                       401125 non-null object\n",
      "ProductGroup                401125 non-null object\n",
      "ProductGroupDesc            401125 non-null object\n",
      "Drive_System                104361 non-null object\n",
      "Enclosure                   400800 non-null object\n",
      "Forks                       192077 non-null object\n",
      "Pad_Type                    79134 non-null object\n",
      "Ride_Control                148606 non-null object\n",
      "Stick                       79134 non-null object\n",
      "Transmission                183230 non-null object\n",
      "Turbocharged                79134 non-null object\n",
      "Blade_Extension             25219 non-null object\n",
      "Blade_Width                 25219 non-null object\n",
      "Enclosure_Type              25219 non-null object\n",
      "Engine_Horsepower           25219 non-null object\n",
      "Hydraulics                  320570 non-null object\n",
      "Pushblock                   25219 non-null object\n",
      "Ripper                      104137 non-null object\n",
      "Scarifier                   25230 non-null object\n",
      "Tip_Control                 25219 non-null object\n",
      "Tire_Size                   94718 non-null object\n",
      "Coupler                     213952 non-null object\n",
      "Coupler_System              43458 non-null object\n",
      "Grouser_Tracks              43362 non-null object\n",
      "Hydraulics_Flow             43362 non-null object\n",
      "Track_Type                  99153 non-null object\n",
      "Undercarriage_Pad_Width     99872 non-null object\n",
      "Stick_Length                99218 non-null object\n",
      "Thumb                       99288 non-null object\n",
      "Pattern_Changer             99218 non-null object\n",
      "Grouser_Type                99153 non-null object\n",
      "Backhoe_Mounting            78672 non-null object\n",
      "Blade_Type                  79833 non-null object\n",
      "Travel_Controls             79834 non-null object\n",
      "Differential_Type           69411 non-null object\n",
      "Steering_Controls           69369 non-null object\n",
      "dtypes: float64(2), int64(6), object(45)\n",
      "memory usage: 162.2+ MB\n"
     ]
    }
   ],
   "source": [
    "train.info()"
   ]
  },
  {
   "cell_type": "markdown",
   "metadata": {},
   "source": [
    "Sad, a lot of these columns have significant amounts of missing data.\n",
    "\n",
    "We will need to deal with those, one way or another. However I want to create an initial basic model in order to observe the model improvement through feature engineering.\n",
    "\n",
    "Following code creates a new data frame with the columns that have absolutely none null values. "
   ]
  },
  {
   "cell_type": "code",
   "execution_count": 118,
   "metadata": {},
   "outputs": [
    {
     "data": {
      "text/plain": [
       "(401125, 13)"
      ]
     },
     "execution_count": 118,
     "metadata": {},
     "output_type": "execute_result"
    }
   ],
   "source": [
    "# get the column counts with applying .count() to each row(axis=0)\n",
    "column_counts = train.apply(lambda x: x.count(), axis=0) \n",
    "#decide on which columns to keep(only the columns with maximum column count)\n",
    "keep_columns = column_counts[column_counts == column_counts.max()]\n",
    "# create the dataframe\n",
    "dense_train = train.loc[:,keep_columns.index]\n",
    "dense_train.shape"
   ]
  },
  {
   "cell_type": "markdown",
   "metadata": {},
   "source": [
    "Looks like there are only 13 columns without missing values. eh not bad for early stage."
   ]
  },
  {
   "cell_type": "code",
   "execution_count": 119,
   "metadata": {},
   "outputs": [
    {
     "name": "stdout",
     "output_type": "stream",
     "text": [
      "<class 'pandas.core.frame.DataFrame'>\n",
      "RangeIndex: 401125 entries, 0 to 401124\n",
      "Data columns (total 13 columns):\n",
      "SalesID               401125 non-null int64\n",
      "SalePrice             401125 non-null int64\n",
      "MachineID             401125 non-null int64\n",
      "ModelID               401125 non-null int64\n",
      "datasource            401125 non-null int64\n",
      "YearMade              401125 non-null int64\n",
      "saledate              401125 non-null object\n",
      "fiModelDesc           401125 non-null object\n",
      "fiBaseModel           401125 non-null object\n",
      "fiProductClassDesc    401125 non-null object\n",
      "state                 401125 non-null object\n",
      "ProductGroup          401125 non-null object\n",
      "ProductGroupDesc      401125 non-null object\n",
      "dtypes: int64(6), object(7)\n",
      "memory usage: 39.8+ MB\n"
     ]
    }
   ],
   "source": [
    "dense_train.info()"
   ]
  },
  {
   "cell_type": "markdown",
   "metadata": {},
   "source": [
    "salesid, machineid and modelid are integers. Notable problem for our model.\n",
    "\n",
    "Following code changes type of the mentioned columns on the dataset to string."
   ]
  },
  {
   "cell_type": "code",
   "execution_count": 120,
   "metadata": {},
   "outputs": [
    {
     "name": "stdout",
     "output_type": "stream",
     "text": [
      "<class 'str'>\n",
      "<class 'str'>\n",
      "<class 'str'>\n"
     ]
    }
   ],
   "source": [
    "id_cols = ['SalesID', 'MachineID', 'ModelID']\n",
    "dense_train[id_cols] = dense_train[id_cols].astype('str', inplace=True)\n",
    "print(type(dense_train.SalesID[0]))\n",
    "print(type(dense_train['MachineID'][0]))\n",
    "print(type(dense_train.ModelID[0]))"
   ]
  },
  {
   "cell_type": "code",
   "execution_count": 121,
   "metadata": {},
   "outputs": [
    {
     "data": {
      "text/html": [
       "<div>\n",
       "<style>\n",
       "    .dataframe thead tr:only-child th {\n",
       "        text-align: right;\n",
       "    }\n",
       "\n",
       "    .dataframe thead th {\n",
       "        text-align: left;\n",
       "    }\n",
       "\n",
       "    .dataframe tbody tr th {\n",
       "        vertical-align: top;\n",
       "    }\n",
       "</style>\n",
       "<table border=\"1\" class=\"dataframe\">\n",
       "  <thead>\n",
       "    <tr style=\"text-align: right;\">\n",
       "      <th></th>\n",
       "      <th>SalePrice</th>\n",
       "      <th>datasource</th>\n",
       "      <th>YearMade</th>\n",
       "    </tr>\n",
       "  </thead>\n",
       "  <tbody>\n",
       "    <tr>\n",
       "      <th>count</th>\n",
       "      <td>401125.000000</td>\n",
       "      <td>401125.000000</td>\n",
       "      <td>401125.000000</td>\n",
       "    </tr>\n",
       "    <tr>\n",
       "      <th>mean</th>\n",
       "      <td>31099.712848</td>\n",
       "      <td>134.665810</td>\n",
       "      <td>1899.156901</td>\n",
       "    </tr>\n",
       "    <tr>\n",
       "      <th>std</th>\n",
       "      <td>23036.898502</td>\n",
       "      <td>8.962237</td>\n",
       "      <td>291.797469</td>\n",
       "    </tr>\n",
       "    <tr>\n",
       "      <th>min</th>\n",
       "      <td>4750.000000</td>\n",
       "      <td>121.000000</td>\n",
       "      <td>1000.000000</td>\n",
       "    </tr>\n",
       "    <tr>\n",
       "      <th>25%</th>\n",
       "      <td>14500.000000</td>\n",
       "      <td>132.000000</td>\n",
       "      <td>1985.000000</td>\n",
       "    </tr>\n",
       "    <tr>\n",
       "      <th>50%</th>\n",
       "      <td>24000.000000</td>\n",
       "      <td>132.000000</td>\n",
       "      <td>1995.000000</td>\n",
       "    </tr>\n",
       "    <tr>\n",
       "      <th>75%</th>\n",
       "      <td>40000.000000</td>\n",
       "      <td>136.000000</td>\n",
       "      <td>2000.000000</td>\n",
       "    </tr>\n",
       "    <tr>\n",
       "      <th>max</th>\n",
       "      <td>142000.000000</td>\n",
       "      <td>172.000000</td>\n",
       "      <td>2013.000000</td>\n",
       "    </tr>\n",
       "  </tbody>\n",
       "</table>\n",
       "</div>"
      ],
      "text/plain": [
       "           SalePrice     datasource       YearMade\n",
       "count  401125.000000  401125.000000  401125.000000\n",
       "mean    31099.712848     134.665810    1899.156901\n",
       "std     23036.898502       8.962237     291.797469\n",
       "min      4750.000000     121.000000    1000.000000\n",
       "25%     14500.000000     132.000000    1985.000000\n",
       "50%     24000.000000     132.000000    1995.000000\n",
       "75%     40000.000000     136.000000    2000.000000\n",
       "max    142000.000000     172.000000    2013.000000"
      ]
     },
     "execution_count": 121,
     "metadata": {},
     "output_type": "execute_result"
    }
   ],
   "source": [
    "dense_train.describe()"
   ]
  },
  {
   "cell_type": "markdown",
   "metadata": {},
   "source": [
    "Minimum value of YearMade is 1000. I don't Tracktors were invented back then. Lets have a closer look."
   ]
  },
  {
   "cell_type": "code",
   "execution_count": 122,
   "metadata": {},
   "outputs": [
    {
     "data": {
      "image/png": "[encoded data removed]",
      "text/plain": [
       "<Figure size 432x288 with 1 Axes>"
      ]
     },
     "metadata": {
      "needs_background": "light"
     },
     "output_type": "display_data"
    }
   ],
   "source": [
    "dense_train.YearMade.hist();"
   ]
  },
  {
   "cell_type": "code",
   "execution_count": 123,
   "metadata": {},
   "outputs": [
    {
     "data": {
      "text/plain": [
       "1000    38185\n",
       "1998    21221\n",
       "2005    20587\n",
       "2004    20020\n",
       "1997    18905\n",
       "Name: YearMade, dtype: int64"
      ]
     },
     "execution_count": 123,
     "metadata": {},
     "output_type": "execute_result"
    }
   ],
   "source": [
    "dense_train.YearMade.value_counts().head()"
   ]
  },
  {
   "cell_type": "markdown",
   "metadata": {},
   "source": [
    "Alright we have 38185 tracktors that is made in year 1000 in ourdataset, a significant group of outliers. I assume these are missing values and there are a couple of ways to deal with missing values.\n",
    "\n",
    "Options:\n",
    "- if outliers accounts for a small measure of our data, we can simply drop them.\n",
    "- we can fill them with mode,median, mean, max or min depending on the data.\n",
    "- we can create an algoritm to predict missing values, which is a complete new project at this stage.\n",
    "\n",
    "get the ratio:"
   ]
  },
  {
   "cell_type": "code",
   "execution_count": 124,
   "metadata": {},
   "outputs": [
    {
     "data": {
      "text/plain": [
       "1000    0.095195\n",
       "1998    0.052904\n",
       "2005    0.051323\n",
       "2004    0.049910\n",
       "1997    0.047130\n",
       "Name: YearMade, dtype: float64"
      ]
     },
     "execution_count": 124,
     "metadata": {},
     "output_type": "execute_result"
    }
   ],
   "source": [
    "(dense_train.YearMade.value_counts() / dense_train.YearMade.count()).head()"
   ]
  },
  {
   "cell_type": "markdown",
   "metadata": {},
   "source": [
    "YearMade: 1000 stands for almost 10% of our data. I am not giving up on that."
   ]
  },
  {
   "cell_type": "code",
   "execution_count": 125,
   "metadata": {},
   "outputs": [
    {
     "data": {
      "text/plain": [
       "<matplotlib.axes._subplots.AxesSubplot at 0x1531f50b70>"
      ]
     },
     "execution_count": 125,
     "metadata": {},
     "output_type": "execute_result"
    },
    {
     "data": {
      "image/png": "[encoded data removed]",
      "text/plain": [
       "<Figure size 432x288 with 1 Axes>"
      ]
     },
     "metadata": {
      "needs_background": "light"
     },
     "output_type": "display_data"
    }
   ],
   "source": [
    "dense_train.YearMade.value_counts().hist()"
   ]
  },
  {
   "cell_type": "markdown",
   "metadata": {},
   "source": [
    "Lets calculate mean median and mode to see which one makes more sense to replace missing values."
   ]
  },
  {
   "cell_type": "code",
   "execution_count": 126,
   "metadata": {},
   "outputs": [
    {
     "name": "stdout",
     "output_type": "stream",
     "text": [
      "mean: 1899.1569012153318\n",
      "mode: 0    1000\n",
      "dtype: int64\n",
      "median: 1995.0\n"
     ]
    }
   ],
   "source": [
    "print(f'mean: {dense_train.YearMade.mean()}')\n",
    "print(f'mode: {dense_train.YearMade.mode()}')\n",
    "print(f'median: {dense_train.YearMade.median()}')"
   ]
  },
  {
   "cell_type": "markdown",
   "metadata": {},
   "source": [
    "Hmm I think I will go with the mean because it better represents the dataset.\n",
    "\n",
    "**AHA! Tricked you!** If we simply run analisis on the pure data with given condition we include 38000 missing(wrong) values in our calculations.\n",
    "\n",
    "Solution: Set a condition before runnin calculations. Lets just considers tracktors that are made after year 1900( I decided to keep the number a little low because who knows, maybe some people buy very old tracktors for collection purposes, weird hobby eh? But who am I to judge...)"
   ]
  },
  {
   "cell_type": "code",
   "execution_count": 127,
   "metadata": {},
   "outputs": [
    {
     "name": "stdout",
     "output_type": "stream",
     "text": [
      "mean: 1993.7574034275638\n",
      "mode: 0    1998\n",
      "dtype: int64\n",
      "median: 1996.0\n"
     ]
    }
   ],
   "source": [
    "condition = dense_train.YearMade > 1900\n",
    "mean = dense_train.YearMade[condition].mean()\n",
    "mode = dense_train.YearMade[condition].mode()\n",
    "median = dense_train.YearMade[condition].median()\n",
    "\n",
    "\n",
    "print(f'mean: {mean}')\n",
    "print(f'mode: {mode}')\n",
    "print(f'median: {median}')"
   ]
  },
  {
   "cell_type": "markdown",
   "metadata": {},
   "source": [
    "Alright all these years are close to each other so I will simply go with the median which in between max and min."
   ]
  },
  {
   "cell_type": "code",
   "execution_count": 128,
   "metadata": {},
   "outputs": [],
   "source": [
    "dense_train.loc[~condition, 'YearMade'] = int(median)"
   ]
  },
  {
   "cell_type": "code",
   "execution_count": 129,
   "metadata": {},
   "outputs": [
    {
     "data": {
      "text/plain": [
       "1996    54876\n",
       "1998    21221\n",
       "2005    20587\n",
       "2004    20020\n",
       "1997    18905\n",
       "Name: YearMade, dtype: int64"
      ]
     },
     "execution_count": 129,
     "metadata": {},
     "output_type": "execute_result"
    }
   ],
   "source": [
    "dense_train.YearMade.value_counts().head()"
   ]
  },
  {
   "cell_type": "markdown",
   "metadata": {},
   "source": [
    "## Dependent Variable(target - y)\n",
    "\n",
    "Lets have a look at this one."
   ]
  },
  {
   "cell_type": "code",
   "execution_count": 130,
   "metadata": {},
   "outputs": [
    {
     "data": {
      "text/plain": [
       "<matplotlib.axes._subplots.AxesSubplot at 0x15577f9ef0>"
      ]
     },
     "execution_count": 130,
     "metadata": {},
     "output_type": "execute_result"
    },
    {
     "data": {
      "image/png": "[encoded data removed]",
      "text/plain": [
       "<Figure size 432x288 with 1 Axes>"
      ]
     },
     "metadata": {
      "needs_background": "light"
     },
     "output_type": "display_data"
    }
   ],
   "source": [
    "dense_train.SalePrice.hist()"
   ]
  },
  {
   "cell_type": "markdown",
   "metadata": {},
   "source": [
    "This picture is a little bit surprising, it looks more like an exponential distribution than anything else. We might expect a more normal distribution for any given vehicle, but evidently our data set is so full of different types of vehicles that we get this shape. There are also apparently a lot of low-priced vehicles.\n",
    "\n",
    "Since our RMSLE error metric penalizes underpredictions, we'll want to make sure that we do well on the right tail of this distribution and don't just focus on the common vehicles."
   ]
  },
  {
   "cell_type": "markdown",
   "metadata": {},
   "source": [
    "### Basic Model\n",
    "\n",
    "We've taken care of some outlier values in the model year, but let's step back and talk about why.\n",
    "\n",
    "Since we're talking about used equipment here, there are a few things that I believe matter to the price. If I were to rank them I would list them from most to least important as:\n",
    "\n",
    "based on common sense\n",
    "\n",
    "- What is a reasonable price for this vehicle? We don't have any columns in our data that tell us this, but the idea is that there are probably very different prices paid for more or less expensive pieces of equipment. If I knew what original cost of the vehicles was, this, along with the age would probably help me. As it is, I can probably get a estimate of the price by taking an average of similar vehicles sold recently. What the best notion of similar should be is unclear... so we may want to experiement in this regard.\n",
    "\n",
    "\n",
    "- The age of the vehicle. Surely older vehicles cost less than newer ones right? We have the model year, but we'll need to compute the age on the date of sale for best results.\n",
    "\n",
    "\n",
    "- How heavily used the vehicle is. Surely more heavily used vehicles are less expensive. Unfortunately there are a lot of missing values in the machinehoursusage. Let's investigate.\n",
    "\n",
    "As we discover things that are relevant we will include them in our more rigorous model file in heavy_equipment_model.py. That's where will ultimately do cross validation and use pipelining to assure that our model works on unseen data."
   ]
  },
  {
   "cell_type": "markdown",
   "metadata": {},
   "source": [
    "**machine hours**"
   ]
  },
  {
   "cell_type": "code",
   "execution_count": 131,
   "metadata": {},
   "outputs": [
    {
     "name": "stdout",
     "output_type": "stream",
     "text": [
      "73126  zero values\n",
      "258360  missing values\n"
     ]
    }
   ],
   "source": [
    "mhcm = train.MachineHoursCurrentMeter\n",
    "print((mhcm == 0).sum(), ' zero values')\n",
    "print(mhcm.isnull().sum(), ' missing values')"
   ]
  },
  {
   "cell_type": "markdown",
   "metadata": {},
   "source": [
    "So in addition to the missing values, there are a lot of values set at zero, which probably represent missing vals too. Lets have a closer look."
   ]
  },
  {
   "cell_type": "code",
   "execution_count": 132,
   "metadata": {},
   "outputs": [
    {
     "data": {
      "text/plain": [
       "<matplotlib.axes._subplots.AxesSubplot at 0x11618c080>"
      ]
     },
     "execution_count": 132,
     "metadata": {},
     "output_type": "execute_result"
    },
    {
     "data": {
      "image/png": "[encoded data removed]",
      "text/plain": [
       "<Figure size 432x288 with 1 Axes>"
      ]
     },
     "metadata": {
      "needs_background": "light"
     },
     "output_type": "display_data"
    }
   ],
   "source": [
    "mhcm.hist()"
   ]
  },
  {
   "cell_type": "markdown",
   "metadata": {},
   "source": [
    "This kind of worthless histogram can happen when there are outliers. \n",
    "\n",
    "Solution: We know there are also a lot of zeros, so let's clean those out and try to get a sense of the shape in a reasonably dense range."
   ]
  },
  {
   "cell_type": "code",
   "execution_count": 133,
   "metadata": {},
   "outputs": [
    {
     "data": {
      "text/plain": [
       "<matplotlib.axes._subplots.AxesSubplot at 0x11b3f7dd8>"
      ]
     },
     "execution_count": 133,
     "metadata": {},
     "output_type": "execute_result"
    },
    {
     "data": {
      "image/png": "[encoded data removed]",
      "text/plain": [
       "<Figure size 432x288 with 1 Axes>"
      ]
     },
     "metadata": {
      "needs_background": "light"
     },
     "output_type": "display_data"
    }
   ],
   "source": [
    "mhcm[(mhcm>0) & (mhcm<50000)].hist()"
   ]
  },
  {
   "cell_type": "markdown",
   "metadata": {},
   "source": [
    "Ok this sort of worked, but it looks like we have a really long tail of outliers, which is going to be cause for concern. How can we effectively learn the behavior of our model when the data takes on extreme values but only infrequently?"
   ]
  },
  {
   "cell_type": "code",
   "execution_count": 134,
   "metadata": {},
   "outputs": [
    {
     "data": {
      "text/plain": [
       "426"
      ]
     },
     "execution_count": 134,
     "metadata": {},
     "output_type": "execute_result"
    }
   ],
   "source": [
    "(mhcm > 100000).sum()"
   ]
  },
  {
   "cell_type": "code",
   "execution_count": 135,
   "metadata": {},
   "outputs": [
    {
     "data": {
      "text/plain": [
       "<matplotlib.axes._subplots.AxesSubplot at 0x1532b41be0>"
      ]
     },
     "execution_count": 135,
     "metadata": {},
     "output_type": "execute_result"
    },
    {
     "data": {
      "image/png": "[encoded data removed]",
      "text/plain": [
       "<Figure size 432x288 with 1 Axes>"
      ]
     },
     "metadata": {
      "needs_background": "light"
     },
     "output_type": "display_data"
    }
   ],
   "source": [
    "mhcm.plot(kind='box')"
   ]
  },
  {
   "cell_type": "markdown",
   "metadata": {},
   "source": [
    "\n",
    "It's not obvious these things are outliers in the sense that they're just awkward data, it seems possible there are some really heavily used machines in the auction occassionally. We could consider ignoring these things, there are only a few hundred, but we'll certainly want to keep these in mind as we proceed, who knows maybe they speak a different language.\n",
    "\n",
    "For now, let's not focus on the hours, this data is looking very difficult, so let's try to build an initial model that doesn't include it.\n",
    "\n",
    "For equipment age, we can calculate this by taking the difference between the saledate and the year made."
   ]
  },
  {
   "cell_type": "code",
   "execution_count": 136,
   "metadata": {},
   "outputs": [],
   "source": [
    "dense_train['saledate_converted'] = pd.to_datetime(dense_train.saledate)"
   ]
  },
  {
   "cell_type": "code",
   "execution_count": 137,
   "metadata": {},
   "outputs": [
    {
     "data": {
      "text/plain": [
       "'11/16/2006 0:00'"
      ]
     },
     "execution_count": 137,
     "metadata": {},
     "output_type": "execute_result"
    }
   ],
   "source": [
    "dense_train.saledate[0]  #old date version "
   ]
  },
  {
   "cell_type": "code",
   "execution_count": 138,
   "metadata": {},
   "outputs": [
    {
     "data": {
      "text/plain": [
       "Timestamp('2006-11-16 00:00:00')"
      ]
     },
     "execution_count": 138,
     "metadata": {},
     "output_type": "execute_result"
    }
   ],
   "source": [
    "dense_train.saledate_converted[0]   #converted date version"
   ]
  },
  {
   "cell_type": "markdown",
   "metadata": {},
   "source": [
    "We are subtracking yearmade from saledate in order to find the age of the vehicle at the time of sale."
   ]
  },
  {
   "cell_type": "code",
   "execution_count": 139,
   "metadata": {},
   "outputs": [
    {
     "data": {
      "text/plain": [
       "<matplotlib.axes._subplots.AxesSubplot at 0x1535485748>"
      ]
     },
     "execution_count": 139,
     "metadata": {},
     "output_type": "execute_result"
    },
    {
     "data": {
      "image/png": "[encoded data removed]",
      "text/plain": [
       "<Figure size 432x288 with 1 Axes>"
      ]
     },
     "metadata": {
      "needs_background": "light"
     },
     "output_type": "display_data"
    }
   ],
   "source": [
    "dense_train['equipment_age'] = dense_train.saledate_converted.dt.year - dense_train.YearMade\n",
    "dense_train.equipment_age.hist()"
   ]
  },
  {
   "cell_type": "markdown",
   "metadata": {},
   "source": [
    "Ok, this graph looks pretty reasonable, but maybe a few outliers on both sides:\n",
    "\n",
    "I dont't think equipment age or anything's age can be -12. So lets fix that.\n"
   ]
  },
  {
   "cell_type": "code",
   "execution_count": 140,
   "metadata": {},
   "outputs": [
    {
     "data": {
      "text/plain": [
       "count    401125.000000\n",
       "mean         10.124841\n",
       "std           7.350734\n",
       "min         -12.000000\n",
       "25%           5.000000\n",
       "50%           8.000000\n",
       "75%          13.000000\n",
       "max          92.000000\n",
       "Name: equipment_age, dtype: float64"
      ]
     },
     "execution_count": 140,
     "metadata": {},
     "output_type": "execute_result"
    }
   ],
   "source": [
    "dense_train.equipment_age.describe()"
   ]
  },
  {
   "cell_type": "code",
   "execution_count": 141,
   "metadata": {},
   "outputs": [
    {
     "data": {
      "text/plain": [
       "(1410, 196)"
      ]
     },
     "execution_count": 141,
     "metadata": {},
     "output_type": "execute_result"
    }
   ],
   "source": [
    "age = dense_train.equipment_age\n",
    "(age<0).sum(), (age > 50).sum()"
   ]
  },
  {
   "cell_type": "markdown",
   "metadata": {},
   "source": [
    "There are only 196 vehicles that are older than 50 years old but the actual problem is with the vehicles that are aged somehow less than 0."
   ]
  },
  {
   "cell_type": "markdown",
   "metadata": {},
   "source": [
    "Let's see what our variables look like here."
   ]
  },
  {
   "cell_type": "code",
   "execution_count": 142,
   "metadata": {},
   "outputs": [
    {
     "data": {
      "image/png": "[encoded data removed]",
      "text/plain": [
       "<Figure size 432x288 with 4 Axes>"
      ]
     },
     "metadata": {
      "needs_background": "light"
     },
     "output_type": "display_data"
    }
   ],
   "source": [
    "pd.plotting.scatter_matrix(dense_train[['SalePrice', 'equipment_age']]);"
   ]
  },
  {
   "cell_type": "markdown",
   "metadata": {},
   "source": [
    "Based on the graph above, it looks like there's a bit of a collection of outliers at around 60 years old. We might be able to filter those out, or want to build another model on them.\n",
    "\n",
    "Ok, now we return to 1. above. We want to an average price of similar vehicle. There are many ways to think about similarity including:\n",
    "\n",
    "- Geography (look at nearby sales)\n",
    "- Time (look at recent sales)\n",
    "- Vehicle (look at sales that are most similar in terms of vehicle)\n",
    "- Similar usage\n",
    "- Similar age etc.\n",
    "\n",
    "\n",
    "Ultimately choosing what similarity metric we should use is quite difficult, so for now let's try to do something easy and reasonable. What about the five most recent sales of the same modelid?\n",
    "\n",
    "If there aren't 5 such sales of course we'll have to do something else, but let's see how big that problem is before we solve it."
   ]
  },
  {
   "cell_type": "code",
   "execution_count": 143,
   "metadata": {},
   "outputs": [],
   "source": [
    "#Set multi-level index and sort by modelid and saledate, so we can use window functions.\n",
    "dense_train.sort_values(by='saledate_converted', inplace=True)"
   ]
  },
  {
   "cell_type": "code",
   "execution_count": 144,
   "metadata": {},
   "outputs": [
    {
     "data": {
      "text/html": [
       "<div>\n",
       "<style>\n",
       "    .dataframe thead tr:only-child th {\n",
       "        text-align: right;\n",
       "    }\n",
       "\n",
       "    .dataframe thead th {\n",
       "        text-align: left;\n",
       "    }\n",
       "\n",
       "    .dataframe tbody tr th {\n",
       "        vertical-align: top;\n",
       "    }\n",
       "</style>\n",
       "<table border=\"1\" class=\"dataframe\">\n",
       "  <thead>\n",
       "    <tr style=\"text-align: right;\">\n",
       "      <th></th>\n",
       "      <th>SalesID</th>\n",
       "      <th>SalePrice</th>\n",
       "      <th>MachineID</th>\n",
       "      <th>ModelID</th>\n",
       "      <th>datasource</th>\n",
       "      <th>YearMade</th>\n",
       "      <th>saledate</th>\n",
       "      <th>fiModelDesc</th>\n",
       "      <th>fiBaseModel</th>\n",
       "      <th>fiProductClassDesc</th>\n",
       "      <th>state</th>\n",
       "      <th>ProductGroup</th>\n",
       "      <th>ProductGroupDesc</th>\n",
       "      <th>saledate_converted</th>\n",
       "      <th>equipment_age</th>\n",
       "    </tr>\n",
       "  </thead>\n",
       "  <tbody>\n",
       "    <tr>\n",
       "      <th>205615</th>\n",
       "      <td>1646770</td>\n",
       "      <td>9500</td>\n",
       "      <td>1126363</td>\n",
       "      <td>8434</td>\n",
       "      <td>132</td>\n",
       "      <td>1974</td>\n",
       "      <td>1/17/1989 0:00</td>\n",
       "      <td>TD20</td>\n",
       "      <td>TD20</td>\n",
       "      <td>Track Type Tractor, Dozer - 105.0 to 130.0 Hor...</td>\n",
       "      <td>Texas</td>\n",
       "      <td>TTT</td>\n",
       "      <td>Track Type Tractors</td>\n",
       "      <td>1989-01-17</td>\n",
       "      <td>15</td>\n",
       "    </tr>\n",
       "    <tr>\n",
       "      <th>92803</th>\n",
       "      <td>1404019</td>\n",
       "      <td>24000</td>\n",
       "      <td>1169900</td>\n",
       "      <td>7110</td>\n",
       "      <td>132</td>\n",
       "      <td>1986</td>\n",
       "      <td>1/31/1989 0:00</td>\n",
       "      <td>416</td>\n",
       "      <td>416</td>\n",
       "      <td>Backhoe Loader - 14.0 to 15.0 Ft Standard Digg...</td>\n",
       "      <td>Florida</td>\n",
       "      <td>BL</td>\n",
       "      <td>Backhoe Loaders</td>\n",
       "      <td>1989-01-31</td>\n",
       "      <td>3</td>\n",
       "    </tr>\n",
       "    <tr>\n",
       "      <th>98346</th>\n",
       "      <td>1415646</td>\n",
       "      <td>35000</td>\n",
       "      <td>1262088</td>\n",
       "      <td>3357</td>\n",
       "      <td>132</td>\n",
       "      <td>1975</td>\n",
       "      <td>1/31/1989 0:00</td>\n",
       "      <td>12G</td>\n",
       "      <td>12</td>\n",
       "      <td>Motorgrader - 130.0 to 145.0 Horsepower</td>\n",
       "      <td>Florida</td>\n",
       "      <td>MG</td>\n",
       "      <td>Motor Graders</td>\n",
       "      <td>1989-01-31</td>\n",
       "      <td>14</td>\n",
       "    </tr>\n",
       "    <tr>\n",
       "      <th>169297</th>\n",
       "      <td>1596358</td>\n",
       "      <td>19000</td>\n",
       "      <td>1433229</td>\n",
       "      <td>8247</td>\n",
       "      <td>132</td>\n",
       "      <td>1978</td>\n",
       "      <td>1/31/1989 0:00</td>\n",
       "      <td>644</td>\n",
       "      <td>644</td>\n",
       "      <td>Wheel Loader - 175.0 to 200.0 Horsepower</td>\n",
       "      <td>Florida</td>\n",
       "      <td>WL</td>\n",
       "      <td>Wheel Loader</td>\n",
       "      <td>1989-01-31</td>\n",
       "      <td>11</td>\n",
       "    </tr>\n",
       "    <tr>\n",
       "      <th>274835</th>\n",
       "      <td>1821514</td>\n",
       "      <td>14000</td>\n",
       "      <td>1194089</td>\n",
       "      <td>10150</td>\n",
       "      <td>132</td>\n",
       "      <td>1980</td>\n",
       "      <td>1/31/1989 0:00</td>\n",
       "      <td>A66</td>\n",
       "      <td>A66</td>\n",
       "      <td>Wheel Loader - 120.0 to 135.0 Horsepower</td>\n",
       "      <td>Florida</td>\n",
       "      <td>WL</td>\n",
       "      <td>Wheel Loader</td>\n",
       "      <td>1989-01-31</td>\n",
       "      <td>9</td>\n",
       "    </tr>\n",
       "  </tbody>\n",
       "</table>\n",
       "</div>"
      ],
      "text/plain": [
       "        SalesID  SalePrice MachineID ModelID  datasource  YearMade  \\\n",
       "205615  1646770       9500   1126363    8434         132      1974   \n",
       "92803   1404019      24000   1169900    7110         132      1986   \n",
       "98346   1415646      35000   1262088    3357         132      1975   \n",
       "169297  1596358      19000   1433229    8247         132      1978   \n",
       "274835  1821514      14000   1194089   10150         132      1980   \n",
       "\n",
       "              saledate fiModelDesc fiBaseModel  \\\n",
       "205615  1/17/1989 0:00        TD20        TD20   \n",
       "92803   1/31/1989 0:00         416         416   \n",
       "98346   1/31/1989 0:00         12G          12   \n",
       "169297  1/31/1989 0:00         644         644   \n",
       "274835  1/31/1989 0:00         A66         A66   \n",
       "\n",
       "                                       fiProductClassDesc    state  \\\n",
       "205615  Track Type Tractor, Dozer - 105.0 to 130.0 Hor...    Texas   \n",
       "92803   Backhoe Loader - 14.0 to 15.0 Ft Standard Digg...  Florida   \n",
       "98346             Motorgrader - 130.0 to 145.0 Horsepower  Florida   \n",
       "169297           Wheel Loader - 175.0 to 200.0 Horsepower  Florida   \n",
       "274835           Wheel Loader - 120.0 to 135.0 Horsepower  Florida   \n",
       "\n",
       "       ProductGroup     ProductGroupDesc saledate_converted  equipment_age  \n",
       "205615          TTT  Track Type Tractors         1989-01-17             15  \n",
       "92803            BL      Backhoe Loaders         1989-01-31              3  \n",
       "98346            MG        Motor Graders         1989-01-31             14  \n",
       "169297           WL         Wheel Loader         1989-01-31             11  \n",
       "274835           WL         Wheel Loader         1989-01-31              9  "
      ]
     },
     "execution_count": 144,
     "metadata": {},
     "output_type": "execute_result"
    }
   ],
   "source": [
    "dense_train.head()"
   ]
  },
  {
   "cell_type": "code",
   "execution_count": 145,
   "metadata": {},
   "outputs": [
    {
     "data": {
      "text/html": [
       "<div>\n",
       "<style>\n",
       "    .dataframe thead tr:only-child th {\n",
       "        text-align: right;\n",
       "    }\n",
       "\n",
       "    .dataframe thead th {\n",
       "        text-align: left;\n",
       "    }\n",
       "\n",
       "    .dataframe tbody tr th {\n",
       "        vertical-align: top;\n",
       "    }\n",
       "</style>\n",
       "<table border=\"1\" class=\"dataframe\">\n",
       "  <thead>\n",
       "    <tr style=\"text-align: right;\">\n",
       "      <th></th>\n",
       "      <th>SalesID</th>\n",
       "      <th>SalePrice</th>\n",
       "      <th>MachineID</th>\n",
       "      <th>ModelID</th>\n",
       "      <th>datasource</th>\n",
       "      <th>YearMade</th>\n",
       "      <th>saledate</th>\n",
       "      <th>fiModelDesc</th>\n",
       "      <th>fiBaseModel</th>\n",
       "      <th>fiProductClassDesc</th>\n",
       "      <th>state</th>\n",
       "      <th>ProductGroup</th>\n",
       "      <th>ProductGroupDesc</th>\n",
       "      <th>saledate_converted</th>\n",
       "      <th>equipment_age</th>\n",
       "    </tr>\n",
       "  </thead>\n",
       "  <tbody>\n",
       "    <tr>\n",
       "      <th>393123</th>\n",
       "      <td>6260878</td>\n",
       "      <td>13500</td>\n",
       "      <td>1799594</td>\n",
       "      <td>4102</td>\n",
       "      <td>149</td>\n",
       "      <td>1996</td>\n",
       "      <td>12/30/2011 0:00</td>\n",
       "      <td>D4C</td>\n",
       "      <td>D4</td>\n",
       "      <td>Track Type Tractor, Dozer - 75.0 to 85.0 Horse...</td>\n",
       "      <td>New York</td>\n",
       "      <td>TTT</td>\n",
       "      <td>Track Type Tractors</td>\n",
       "      <td>2011-12-30</td>\n",
       "      <td>15</td>\n",
       "    </tr>\n",
       "    <tr>\n",
       "      <th>397987</th>\n",
       "      <td>6288376</td>\n",
       "      <td>9750</td>\n",
       "      <td>1872596</td>\n",
       "      <td>4875</td>\n",
       "      <td>149</td>\n",
       "      <td>1996</td>\n",
       "      <td>12/30/2011 0:00</td>\n",
       "      <td>520C</td>\n",
       "      <td>520</td>\n",
       "      <td>Wheel Loader - 135.0 to 150.0 Horsepower</td>\n",
       "      <td>New York</td>\n",
       "      <td>WL</td>\n",
       "      <td>Wheel Loader</td>\n",
       "      <td>2011-12-30</td>\n",
       "      <td>15</td>\n",
       "    </tr>\n",
       "    <tr>\n",
       "      <th>392664</th>\n",
       "      <td>6258093</td>\n",
       "      <td>14500</td>\n",
       "      <td>1877553</td>\n",
       "      <td>3170</td>\n",
       "      <td>149</td>\n",
       "      <td>1988</td>\n",
       "      <td>12/30/2011 0:00</td>\n",
       "      <td>580K</td>\n",
       "      <td>580</td>\n",
       "      <td>Backhoe Loader - 14.0 to 15.0 Ft Standard Digg...</td>\n",
       "      <td>New York</td>\n",
       "      <td>BL</td>\n",
       "      <td>Backhoe Loaders</td>\n",
       "      <td>2011-12-30</td>\n",
       "      <td>23</td>\n",
       "    </tr>\n",
       "    <tr>\n",
       "      <th>400458</th>\n",
       "      <td>6315563</td>\n",
       "      <td>12500</td>\n",
       "      <td>1869637</td>\n",
       "      <td>26456</td>\n",
       "      <td>149</td>\n",
       "      <td>2010</td>\n",
       "      <td>12/30/2011 0:00</td>\n",
       "      <td>L160</td>\n",
       "      <td>L160</td>\n",
       "      <td>Wheel Loader - 40.0 to 60.0 Horsepower</td>\n",
       "      <td>New York</td>\n",
       "      <td>WL</td>\n",
       "      <td>Wheel Loader</td>\n",
       "      <td>2011-12-30</td>\n",
       "      <td>1</td>\n",
       "    </tr>\n",
       "    <tr>\n",
       "      <th>400217</th>\n",
       "      <td>6312170</td>\n",
       "      <td>11000</td>\n",
       "      <td>1812622</td>\n",
       "      <td>9580</td>\n",
       "      <td>149</td>\n",
       "      <td>2005</td>\n",
       "      <td>12/30/2011 0:00</td>\n",
       "      <td>T190</td>\n",
       "      <td>T190</td>\n",
       "      <td>Skid Steer Loader - 1751.0 to 2201.0 Lb Operat...</td>\n",
       "      <td>New York</td>\n",
       "      <td>SSL</td>\n",
       "      <td>Skid Steer Loaders</td>\n",
       "      <td>2011-12-30</td>\n",
       "      <td>6</td>\n",
       "    </tr>\n",
       "  </tbody>\n",
       "</table>\n",
       "</div>"
      ],
      "text/plain": [
       "        SalesID  SalePrice MachineID ModelID  datasource  YearMade  \\\n",
       "393123  6260878      13500   1799594    4102         149      1996   \n",
       "397987  6288376       9750   1872596    4875         149      1996   \n",
       "392664  6258093      14500   1877553    3170         149      1988   \n",
       "400458  6315563      12500   1869637   26456         149      2010   \n",
       "400217  6312170      11000   1812622    9580         149      2005   \n",
       "\n",
       "               saledate fiModelDesc fiBaseModel  \\\n",
       "393123  12/30/2011 0:00         D4C          D4   \n",
       "397987  12/30/2011 0:00        520C         520   \n",
       "392664  12/30/2011 0:00        580K         580   \n",
       "400458  12/30/2011 0:00        L160        L160   \n",
       "400217  12/30/2011 0:00        T190        T190   \n",
       "\n",
       "                                       fiProductClassDesc     state  \\\n",
       "393123  Track Type Tractor, Dozer - 75.0 to 85.0 Horse...  New York   \n",
       "397987           Wheel Loader - 135.0 to 150.0 Horsepower  New York   \n",
       "392664  Backhoe Loader - 14.0 to 15.0 Ft Standard Digg...  New York   \n",
       "400458             Wheel Loader - 40.0 to 60.0 Horsepower  New York   \n",
       "400217  Skid Steer Loader - 1751.0 to 2201.0 Lb Operat...  New York   \n",
       "\n",
       "       ProductGroup     ProductGroupDesc saledate_converted  equipment_age  \n",
       "393123          TTT  Track Type Tractors         2011-12-30             15  \n",
       "397987           WL         Wheel Loader         2011-12-30             15  \n",
       "392664           BL      Backhoe Loaders         2011-12-30             23  \n",
       "400458           WL         Wheel Loader         2011-12-30              1  \n",
       "400217          SSL   Skid Steer Loaders         2011-12-30              6  "
      ]
     },
     "execution_count": 145,
     "metadata": {},
     "output_type": "execute_result"
    }
   ],
   "source": [
    "dense_train.tail()"
   ]
  },
  {
   "cell_type": "code",
   "execution_count": 146,
   "metadata": {},
   "outputs": [],
   "source": [
    "m = dense_train.groupby('ModelID')['SalePrice'].apply(lambda x: x.rolling(5).agg([np.mean]))"
   ]
  },
  {
   "cell_type": "code",
   "execution_count": 147,
   "metadata": {},
   "outputs": [
    {
     "data": {
      "text/html": [
       "<div>\n",
       "<style>\n",
       "    .dataframe thead tr:only-child th {\n",
       "        text-align: right;\n",
       "    }\n",
       "\n",
       "    .dataframe thead th {\n",
       "        text-align: left;\n",
       "    }\n",
       "\n",
       "    .dataframe tbody tr th {\n",
       "        vertical-align: top;\n",
       "    }\n",
       "</style>\n",
       "<table border=\"1\" class=\"dataframe\">\n",
       "  <thead>\n",
       "    <tr style=\"text-align: right;\">\n",
       "      <th></th>\n",
       "      <th>mean</th>\n",
       "    </tr>\n",
       "  </thead>\n",
       "  <tbody>\n",
       "    <tr>\n",
       "      <th>393123</th>\n",
       "      <td>17100.0</td>\n",
       "    </tr>\n",
       "    <tr>\n",
       "      <th>397987</th>\n",
       "      <td>11250.0</td>\n",
       "    </tr>\n",
       "    <tr>\n",
       "      <th>392664</th>\n",
       "      <td>10060.0</td>\n",
       "    </tr>\n",
       "    <tr>\n",
       "      <th>400458</th>\n",
       "      <td>13400.0</td>\n",
       "    </tr>\n",
       "    <tr>\n",
       "      <th>400217</th>\n",
       "      <td>10320.0</td>\n",
       "    </tr>\n",
       "  </tbody>\n",
       "</table>\n",
       "</div>"
      ],
      "text/plain": [
       "           mean\n",
       "393123  17100.0\n",
       "397987  11250.0\n",
       "392664  10060.0\n",
       "400458  13400.0\n",
       "400217  10320.0"
      ]
     },
     "execution_count": 147,
     "metadata": {},
     "output_type": "execute_result"
    }
   ],
   "source": [
    "m.tail()"
   ]
  },
  {
   "cell_type": "code",
   "execution_count": 148,
   "metadata": {},
   "outputs": [],
   "source": [
    "from datetime import timedelta"
   ]
  },
  {
   "cell_type": "code",
   "execution_count": 149,
   "metadata": {},
   "outputs": [
    {
     "data": {
      "text/plain": [
       "datetime.timedelta(1)"
      ]
     },
     "execution_count": 149,
     "metadata": {},
     "output_type": "execute_result"
    }
   ],
   "source": [
    "timedelta(1)"
   ]
  },
  {
   "cell_type": "code",
   "execution_count": 150,
   "metadata": {},
   "outputs": [],
   "source": [
    "z = pd.concat([m, dense_train[['saledate_converted', 'ModelID', 'SalesID']]], axis=1)\n",
    "z['saledate_converted'] = z.saledate_converted + timedelta(1)\n",
    "#Some days will have more than 1 transaction for a particular model, take the last mean (which has most info)\n",
    "z = z.groupby(['ModelID', 'saledate_converted']).apply(lambda x: x.tail(1))"
   ]
  },
  {
   "cell_type": "code",
   "execution_count": 151,
   "metadata": {},
   "outputs": [
    {
     "data": {
      "text/html": [
       "<div>\n",
       "<style>\n",
       "    .dataframe thead tr:only-child th {\n",
       "        text-align: right;\n",
       "    }\n",
       "\n",
       "    .dataframe thead th {\n",
       "        text-align: left;\n",
       "    }\n",
       "\n",
       "    .dataframe tbody tr th {\n",
       "        vertical-align: top;\n",
       "    }\n",
       "</style>\n",
       "<table border=\"1\" class=\"dataframe\">\n",
       "  <thead>\n",
       "    <tr style=\"text-align: right;\">\n",
       "      <th></th>\n",
       "      <th></th>\n",
       "      <th></th>\n",
       "      <th>mean</th>\n",
       "      <th>saledate_converted</th>\n",
       "      <th>ModelID</th>\n",
       "      <th>SalesID</th>\n",
       "    </tr>\n",
       "    <tr>\n",
       "      <th>ModelID</th>\n",
       "      <th>saledate_converted</th>\n",
       "      <th></th>\n",
       "      <th></th>\n",
       "      <th></th>\n",
       "      <th></th>\n",
       "      <th></th>\n",
       "    </tr>\n",
       "  </thead>\n",
       "  <tbody>\n",
       "    <tr>\n",
       "      <th rowspan=\"5\" valign=\"top\">1001</th>\n",
       "      <th>2007-09-13</th>\n",
       "      <th>291903</th>\n",
       "      <td>NaN</td>\n",
       "      <td>2007-09-13</td>\n",
       "      <td>1001</td>\n",
       "      <td>2210570</td>\n",
       "    </tr>\n",
       "    <tr>\n",
       "      <th>2007-09-22</th>\n",
       "      <th>291323</th>\n",
       "      <td>NaN</td>\n",
       "      <td>2007-09-22</td>\n",
       "      <td>1001</td>\n",
       "      <td>2209707</td>\n",
       "    </tr>\n",
       "    <tr>\n",
       "      <th>2007-11-01</th>\n",
       "      <th>291304</th>\n",
       "      <td>NaN</td>\n",
       "      <td>2007-11-01</td>\n",
       "      <td>1001</td>\n",
       "      <td>2209675</td>\n",
       "    </tr>\n",
       "    <tr>\n",
       "      <th>2008-09-19</th>\n",
       "      <th>291302</th>\n",
       "      <td>NaN</td>\n",
       "      <td>2008-09-19</td>\n",
       "      <td>1001</td>\n",
       "      <td>2209672</td>\n",
       "    </tr>\n",
       "    <tr>\n",
       "      <th>2008-11-19</th>\n",
       "      <th>291300</th>\n",
       "      <td>32300.0</td>\n",
       "      <td>2008-11-19</td>\n",
       "      <td>1001</td>\n",
       "      <td>2209669</td>\n",
       "    </tr>\n",
       "  </tbody>\n",
       "</table>\n",
       "</div>"
      ],
      "text/plain": [
       "                                      mean saledate_converted ModelID  SalesID\n",
       "ModelID saledate_converted                                                    \n",
       "1001    2007-09-13         291903      NaN         2007-09-13    1001  2210570\n",
       "        2007-09-22         291323      NaN         2007-09-22    1001  2209707\n",
       "        2007-11-01         291304      NaN         2007-11-01    1001  2209675\n",
       "        2008-09-19         291302      NaN         2008-09-19    1001  2209672\n",
       "        2008-11-19         291300  32300.0         2008-11-19    1001  2209669"
      ]
     },
     "execution_count": 151,
     "metadata": {},
     "output_type": "execute_result"
    }
   ],
   "source": [
    "z.head()"
   ]
  },
  {
   "cell_type": "code",
   "execution_count": 152,
   "metadata": {},
   "outputs": [
    {
     "data": {
      "text/plain": [
       "Index(['mean', 'saledate_converted', 'ModelID', 'SalesID'], dtype='object')"
      ]
     },
     "execution_count": 152,
     "metadata": {},
     "output_type": "execute_result"
    }
   ],
   "source": [
    "z.head().columns"
   ]
  },
  {
   "cell_type": "markdown",
   "metadata": {},
   "source": [
    "\n",
    "If we're going to use this as an input, we don't want to use an average value that could include the price of the vehicle we're trying to predict. So we'll want to shift the dates so that we can merge on the average we would have calculated the day before observing the transaction.\n",
    "\n",
    "This is a little tricky, we need to find the closest date that is less than the transaction date and for which we have an average.\n",
    "\n",
    "We're going to merge based on modelid and date then use fill forward to get the nearest value for any transaction (there will still be missing values)."
   ]
  },
  {
   "cell_type": "code",
   "execution_count": 158,
   "metadata": {},
   "outputs": [],
   "source": [
    "near_price = pd.merge(z.drop('SalesID', axis=1), dense_train, how='outer', \n",
    "                      on=['ModelID', 'saledate_converted'])\n",
    "near_price = near_price.set_index(['ModelID', 'saledate_converted']).sort_index()\n",
    "g = near_price['mean'].groupby(level=0)\n",
    "near_price['filled_mean_price'] = g.transform(lambda x: x.fillna(method='ffill'))"
   ]
  },
  {
   "cell_type": "markdown",
   "metadata": {},
   "source": [
    "Ok, in the dataset above, the observations missing a SalesID come only from our averages table and can be dropped."
   ]
  },
  {
   "cell_type": "code",
   "execution_count": 159,
   "metadata": {},
   "outputs": [
    {
     "name": "stdout",
     "output_type": "stream",
     "text": [
      "(618626, 15)\n"
     ]
    },
    {
     "data": {
      "text/html": [
       "<div>\n",
       "<style>\n",
       "    .dataframe thead tr:only-child th {\n",
       "        text-align: right;\n",
       "    }\n",
       "\n",
       "    .dataframe thead th {\n",
       "        text-align: left;\n",
       "    }\n",
       "\n",
       "    .dataframe tbody tr th {\n",
       "        vertical-align: top;\n",
       "    }\n",
       "</style>\n",
       "<table border=\"1\" class=\"dataframe\">\n",
       "  <thead>\n",
       "    <tr style=\"text-align: right;\">\n",
       "      <th></th>\n",
       "      <th></th>\n",
       "      <th>mean</th>\n",
       "      <th>SalesID</th>\n",
       "      <th>SalePrice</th>\n",
       "      <th>MachineID</th>\n",
       "      <th>datasource</th>\n",
       "      <th>YearMade</th>\n",
       "      <th>saledate</th>\n",
       "      <th>fiModelDesc</th>\n",
       "      <th>fiBaseModel</th>\n",
       "      <th>fiProductClassDesc</th>\n",
       "      <th>state</th>\n",
       "      <th>ProductGroup</th>\n",
       "      <th>ProductGroupDesc</th>\n",
       "      <th>equipment_age</th>\n",
       "      <th>filled_mean_price</th>\n",
       "    </tr>\n",
       "    <tr>\n",
       "      <th>ModelID</th>\n",
       "      <th>saledate_converted</th>\n",
       "      <th></th>\n",
       "      <th></th>\n",
       "      <th></th>\n",
       "      <th></th>\n",
       "      <th></th>\n",
       "      <th></th>\n",
       "      <th></th>\n",
       "      <th></th>\n",
       "      <th></th>\n",
       "      <th></th>\n",
       "      <th></th>\n",
       "      <th></th>\n",
       "      <th></th>\n",
       "      <th></th>\n",
       "      <th></th>\n",
       "    </tr>\n",
       "  </thead>\n",
       "  <tbody>\n",
       "    <tr>\n",
       "      <th rowspan=\"2\" valign=\"top\">1001</th>\n",
       "      <th>2007-09-12</th>\n",
       "      <td>NaN</td>\n",
       "      <td>2210570</td>\n",
       "      <td>43000.0</td>\n",
       "      <td>1412348</td>\n",
       "      <td>136.0</td>\n",
       "      <td>2001.0</td>\n",
       "      <td>9/12/2007 0:00</td>\n",
       "      <td>850HLGP</td>\n",
       "      <td>850</td>\n",
       "      <td>Track Type Tractor, Dozer - 85.0 to 105.0 Hors...</td>\n",
       "      <td>Mississippi</td>\n",
       "      <td>TTT</td>\n",
       "      <td>Track Type Tractors</td>\n",
       "      <td>6.0</td>\n",
       "      <td>NaN</td>\n",
       "    </tr>\n",
       "    <tr>\n",
       "      <th>2007-09-13</th>\n",
       "      <td>NaN</td>\n",
       "      <td>NaN</td>\n",
       "      <td>NaN</td>\n",
       "      <td>NaN</td>\n",
       "      <td>NaN</td>\n",
       "      <td>NaN</td>\n",
       "      <td>NaN</td>\n",
       "      <td>NaN</td>\n",
       "      <td>NaN</td>\n",
       "      <td>NaN</td>\n",
       "      <td>NaN</td>\n",
       "      <td>NaN</td>\n",
       "      <td>NaN</td>\n",
       "      <td>NaN</td>\n",
       "      <td>NaN</td>\n",
       "    </tr>\n",
       "  </tbody>\n",
       "</table>\n",
       "</div>"
      ],
      "text/plain": [
       "                            mean  SalesID  SalePrice MachineID  datasource  \\\n",
       "ModelID saledate_converted                                                   \n",
       "1001    2007-09-12           NaN  2210570    43000.0   1412348       136.0   \n",
       "        2007-09-13           NaN      NaN        NaN       NaN         NaN   \n",
       "\n",
       "                            YearMade        saledate fiModelDesc fiBaseModel  \\\n",
       "ModelID saledate_converted                                                     \n",
       "1001    2007-09-12            2001.0  9/12/2007 0:00     850HLGP         850   \n",
       "        2007-09-13               NaN             NaN         NaN         NaN   \n",
       "\n",
       "                                                           fiProductClassDesc  \\\n",
       "ModelID saledate_converted                                                      \n",
       "1001    2007-09-12          Track Type Tractor, Dozer - 85.0 to 105.0 Hors...   \n",
       "        2007-09-13                                                        NaN   \n",
       "\n",
       "                                  state ProductGroup     ProductGroupDesc  \\\n",
       "ModelID saledate_converted                                                  \n",
       "1001    2007-09-12          Mississippi          TTT  Track Type Tractors   \n",
       "        2007-09-13                  NaN          NaN                  NaN   \n",
       "\n",
       "                            equipment_age  filled_mean_price  \n",
       "ModelID saledate_converted                                    \n",
       "1001    2007-09-12                    6.0                NaN  \n",
       "        2007-09-13                    NaN                NaN  "
      ]
     },
     "execution_count": 159,
     "metadata": {},
     "output_type": "execute_result"
    }
   ],
   "source": [
    "print(near_price.shape)\n",
    "near_price.head(2)"
   ]
  },
  {
   "cell_type": "code",
   "execution_count": 160,
   "metadata": {},
   "outputs": [
    {
     "data": {
      "text/plain": [
       "(401125, 15)"
      ]
     },
     "execution_count": 160,
     "metadata": {},
     "output_type": "execute_result"
    }
   ],
   "source": [
    "near_price = near_price[near_price.SalesID.notnull()]\n",
    "near_price.shape"
   ]
  },
  {
   "cell_type": "markdown",
   "metadata": {},
   "source": [
    "\n",
    "Ok, we're getting there. Some of our transactions in this data set will not have a 'filled mean price' because there were no previously observed transactions. Fortunately there aren't too many such observations (though this is all within the training data, so it's likely that in reality we might encounter more such cases). It's possible we could build a separate model for predicing these transactions."
   ]
  },
  {
   "cell_type": "code",
   "execution_count": 161,
   "metadata": {},
   "outputs": [
    {
     "data": {
      "text/plain": [
       "count    379643.000000\n",
       "mean      31099.690989\n",
       "std       21603.158082\n",
       "min        4950.000000\n",
       "25%       15000.000000\n",
       "50%       24300.000000\n",
       "75%       40600.000000\n",
       "max      140000.000000\n",
       "Name: filled_mean_price, dtype: float64"
      ]
     },
     "execution_count": 161,
     "metadata": {},
     "output_type": "execute_result"
    }
   ],
   "source": [
    "near_price.filled_mean_price.describe()"
   ]
  },
  {
   "cell_type": "markdown",
   "metadata": {},
   "source": [
    "What was the point of all this recent mean nonsense? Well, it was my belief that the recent mean would have predictive power of the saleprice. Was it worth it? The histogram of mean price - sale price should be instructive:"
   ]
  },
  {
   "cell_type": "code",
   "execution_count": 162,
   "metadata": {},
   "outputs": [
    {
     "data": {
      "text/plain": [
       "<matplotlib.axes._subplots.AxesSubplot at 0x153541a630>"
      ]
     },
     "execution_count": 162,
     "metadata": {},
     "output_type": "execute_result"
    },
    {
     "data": {
      "image/png": "[encoded data removed]",
      "text/plain": [
       "<Figure size 432x288 with 1 Axes>"
      ]
     },
     "metadata": {
      "needs_background": "light"
     },
     "output_type": "display_data"
    }
   ],
   "source": [
    "(near_price.filled_mean_price).hist()"
   ]
  },
  {
   "cell_type": "code",
   "execution_count": 163,
   "metadata": {},
   "outputs": [
    {
     "data": {
      "image/png": "[encoded data removed]",
      "text/plain": [
       "<Figure size 432x288 with 9 Axes>"
      ]
     },
     "metadata": {
      "needs_background": "light"
     },
     "output_type": "display_data"
    }
   ],
   "source": [
    "pd.plotting.scatter_matrix(near_price[['SalePrice', 'filled_mean_price', 'equipment_age']]);"
   ]
  },
  {
   "cell_type": "code",
   "execution_count": 164,
   "metadata": {},
   "outputs": [
    {
     "data": {
      "image/png": "[encoded data removed]",
      "text/plain": [
       "<Figure size 432x288 with 1 Axes>"
      ]
     },
     "metadata": {
      "needs_background": "light"
     },
     "output_type": "display_data"
    }
   ],
   "source": [
    "def percentile_plots(x, y):\n",
    "    cuts = pd.cut(x, 20)\n",
    "    y.groupby(cuts).mean().plot()\n",
    "percentile_plots(near_price.filled_mean_price, near_price.SalePrice)"
   ]
  },
  {
   "cell_type": "code",
   "execution_count": 165,
   "metadata": {},
   "outputs": [
    {
     "data": {
      "image/png": "[encoded data removed]",
      "text/plain": [
       "<Figure size 432x288 with 1 Axes>"
      ]
     },
     "metadata": {
      "needs_background": "light"
     },
     "output_type": "display_data"
    }
   ],
   "source": [
    "percentile_plots(near_price.YearMade, near_price.SalePrice)"
   ]
  },
  {
   "cell_type": "markdown",
   "metadata": {},
   "source": [
    "So the mean price and sale price are definitely correlated here, it should certainly be helpful.\n",
    "\n",
    "Ok, so we are now ready to build our first model.\n",
    "\n",
    "I've been building in this functionality into heavy_equipment_model.py, which you should take a look at now. This uses the same ideas as above, but implements it using the Pipeline class, which is (extremely, very) helpful for preventing target leakage.\n",
    "\n",
    "One thing we'll want to do now is set up a cross validation set. Our heldout set is future transactions, so we're going to want to choose a cv set using time as well. Let's see how we might do that."
   ]
  },
  {
   "cell_type": "code",
   "execution_count": 166,
   "metadata": {},
   "outputs": [
    {
     "data": {
      "text/plain": [
       "<matplotlib.axes._subplots.AxesSubplot at 0x11b9bfda0>"
      ]
     },
     "execution_count": 166,
     "metadata": {},
     "output_type": "execute_result"
    },
    {
     "data": {
      "image/png": "[encoded data removed]",
      "text/plain": [
       "<Figure size 432x288 with 1 Axes>"
      ]
     },
     "metadata": {
      "needs_background": "light"
     },
     "output_type": "display_data"
    }
   ],
   "source": [
    "dense_train.saledate_converted.hist()"
   ]
  },
  {
   "cell_type": "markdown",
   "metadata": {},
   "source": [
    "Ok, looks like we have more transactions recently, and we don't want to make our lives too hard by choosing a validation set that includes all of our most useful data."
   ]
  },
  {
   "cell_type": "code",
   "execution_count": 167,
   "metadata": {},
   "outputs": [
    {
     "data": {
      "text/plain": [
       "0.7   2008-10-22\n",
       "0.8   2009-09-12\n",
       "0.9   2010-10-30\n",
       "1.0   2011-12-30\n",
       "Name: saledate_converted, dtype: datetime64[ns]"
      ]
     },
     "execution_count": 167,
     "metadata": {},
     "output_type": "execute_result"
    }
   ],
   "source": [
    "dense_train.saledate_converted.quantile([.7, .8, .9, 1])"
   ]
  },
  {
   "cell_type": "markdown",
   "metadata": {},
   "source": [
    "Based on this, I would say that we probably don't want to use the usual 70/30 split, because it looks like maybe there was a change in our data collection around 2009. We've got a little less than 10% of our data represented by 2011, which isn't a huge cv data set, but I think makes sense under the circumstances. If anything, it's on the small side, so it might be reasonable to consider other datasets."
   ]
  },
  {
   "cell_type": "code",
   "execution_count": 168,
   "metadata": {},
   "outputs": [
    {
     "data": {
      "text/plain": [
       "<matplotlib.axes._subplots.AxesSubplot at 0x15325c20b8>"
      ]
     },
     "execution_count": 168,
     "metadata": {},
     "output_type": "execute_result"
    },
    {
     "data": {
      "image/png": "[encoded data removed]",
      "text/plain": [
       "<Figure size 432x288 with 1 Axes>"
      ]
     },
     "metadata": {
      "needs_background": "light"
     },
     "output_type": "display_data"
    }
   ],
   "source": [
    "(near_price.filled_mean_price-near_price.SalePrice).hist()"
   ]
  },
  {
   "cell_type": "markdown",
   "metadata": {},
   "source": [
    "Once we've fit a model, we're ready to iterate. A good way to prioritize future efforts would be to look at the residuals of our model and how the correlate with some of our predictors (either ones already included in the model or not). For example, if I thought state might be important, I could see if there are any significant differences in the residuals by state (using a boxplot visually, or a statistical test). If so, then I could decide to include that. We've taken the easy way out re: a lot of our variables with missing values, but we might be able to do some transformations to make them work out better.\n",
    "\n"
   ]
  },
  {
   "cell_type": "code",
   "execution_count": null,
   "metadata": {},
   "outputs": [],
   "source": []
  }
 ],
 "metadata": {
  "kernelspec": {
   "display_name": "Python 3",
   "language": "python",
   "name": "python3"
  },
  "language_info": {
   "codemirror_mode": {
    "name": "ipython",
    "version": 3
   },
   "file_extension": ".py",
   "mimetype": "text/x-python",
   "name": "python",
   "nbconvert_exporter": "python",
   "pygments_lexer": "ipython3",
   "version": "3.6.3"
  }
 },
 "nbformat": 4,
 "nbformat_minor": 2
}
